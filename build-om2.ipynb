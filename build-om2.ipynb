{
 "cells": [
  {
   "cell_type": "markdown",
   "metadata": {},
   "source": [
    "# Building OM2\n",
    "\n",
    "Let's figure out where the source code is with Spack."
   ]
  },
  {
   "cell_type": "code",
   "execution_count": 2,
   "metadata": {
    "vscode": {
     "languageId": "shellscript"
    }
   },
   "outputs": [
    {
     "name": "stdout",
     "output_type": "stream",
     "text": [
      "Using configuration in spack/etc/spack\n"
     ]
    }
   ],
   "source": [
    ". /g/data/tm70/$USER/spack/0.22/spack-config/spack-enable.bash"
   ]
  },
  {
   "cell_type": "code",
   "execution_count": 4,
   "metadata": {
    "vscode": {
     "languageId": "shellscript"
    }
   },
   "outputs": [
    {
     "name": "stdout",
     "output_type": "stream",
     "text": [
      "\u001b[1;34mBundlePackage:   \u001b[0maccess-om2\n",
      "\n",
      "\u001b[1;34mDescription:\u001b[0m\n",
      "    ACCESS-OM2 bundle contains the coupled CICE5 and MOM5 models.\n",
      "\n",
      "\u001b[1;34mHomepage: \u001b[0mhttps://www.access-nri.org.au\n",
      "\n",
      "\u001b[1;34mPreferred version:  \u001b[0m\n",
      "\u001b[0;36m    latest    \u001b[0m\n",
      "\n",
      "\u001b[1;34mSafe versions:  \u001b[0m\n",
      "\u001b[0;36m    latest    \u001b[0m\n",
      "\n",
      "\u001b[1;34mDeprecated versions:  \u001b[0m\n",
      "\u001b[0;36m    None\u001b[0m\n",
      "\n",
      "\u001b[1;34mVariants:\u001b[0m\n",
      "    \u001b[0;36mbuild_system\u001b[0m \u001b[0;96m[bundle]\u001b[0m    \u001b[0;36m    bundle\u001b[0m\n",
      "        Build systems supported by the package\n",
      "    \u001b[0;36mdeterministic\u001b[0m \u001b[0;96m[false]\u001b[0m    \u001b[0;36m    false, true\u001b[0m\n",
      "        Deterministic build.\n",
      "\n",
      "\u001b[1;34mBuild Dependencies:\u001b[0m\n",
      "    None\n",
      "\n",
      "\u001b[1;34mLink Dependencies:\u001b[0m\n",
      "    None\n",
      "\n",
      "\u001b[1;34mRun Dependencies:\u001b[0m\n",
      "    cice5  libaccessom2  mom5\n",
      "\n",
      "\u001b[1;34mLicenses: \u001b[0m\n",
      "    None\n",
      "\n"
     ]
    }
   ],
   "source": [
    "spack info access-om2"
   ]
  },
  {
   "cell_type": "markdown",
   "metadata": {},
   "source": [
    "Ok that wasn't that helpful.\n",
    "\n",
    "Ok, turns out that om2 is the agglomeration of `libaccessom2`, MOM5, CICE5 etc. So after these are built, you can update the [config that payu uses](https://github.com/ACCESS-NRI/access-om2-configs/blob/release-1deg_jra55_ryf/config.yaml) to use the built binaries (change the `exe` elements)."
   ]
  },
  {
   "cell_type": "code",
   "execution_count": null,
   "metadata": {
    "vscode": {
     "languageId": "shellscript"
    }
   },
   "outputs": [],
   "source": []
  }
 ],
 "metadata": {
  "kernelspec": {
   "display_name": "Bash",
   "language": "bash",
   "name": "bash"
  },
  "language_info": {
   "codemirror_mode": "shell",
   "file_extension": ".sh",
   "mimetype": "text/x-sh",
   "name": "bash"
  }
 },
 "nbformat": 4,
 "nbformat_minor": 2
}
